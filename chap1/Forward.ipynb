{
 "cells": [
  {
   "cell_type": "markdown",
   "metadata": {},
   "source": [
    "## 順伝播\n",
    "このファイルでは順伝播(forward)処理のみを実装したレイヤ, モデルを用いて, 入力に対してなんらかの値を出力する.  \n",
    "今回用いるモデル(TwoLayerNet)は2層の中間層を持ち,  \n",
    "入力(2チャネル)->中間層(4チャネル)->出力層(3チャネル)  \n",
    "という流れで推移する"
   ]
  },
  {
   "cell_type": "code",
   "execution_count": 1,
   "metadata": {},
   "outputs": [],
   "source": [
    "import numpy as np\n",
    "import forward_net"
   ]
  },
  {
   "cell_type": "code",
   "execution_count": 2,
   "metadata": {},
   "outputs": [
    {
     "name": "stdout",
     "output_type": "stream",
     "text": [
      "[[-0.4471146   0.19369535  1.9416608 ]\n",
      " [-1.52124403 -0.28335951  1.95659822]\n",
      " [-2.86318726 -1.09384889  2.34849651]\n",
      " [-1.72373984 -0.18476351  1.82161275]\n",
      " [-2.27243738 -0.93815617  2.27242125]\n",
      " [-1.12835806 -0.06801017  1.90322759]\n",
      " [-1.71305285 -0.47604595  2.0485517 ]\n",
      " [ 0.01406805  0.32384305  2.20261328]\n",
      " [ 0.1317886   0.40858767  2.21068293]\n",
      " [-1.71179691 -0.39766238  1.99823159]]\n"
     ]
    }
   ],
   "source": [
    "# input data\n",
    "x = np.random.randn(10, 2)\n",
    "\n",
    "# model\n",
    "model = forward_net.TwoLayerNet(2, 4, 3)\n",
    "pb = model.forward(x)\n",
    "print(pb)"
   ]
  }
 ],
 "metadata": {
  "kernelspec": {
   "display_name": "Python 3",
   "language": "python",
   "name": "python3"
  },
  "language_info": {
   "codemirror_mode": {
    "name": "ipython",
    "version": 3
   },
   "file_extension": ".py",
   "mimetype": "text/x-python",
   "name": "python",
   "nbconvert_exporter": "python",
   "pygments_lexer": "ipython3",
   "version": "3.6.5"
  },
  "latex_envs": {
   "bibliofile": "biblio.bib",
   "cite_by": "apalike",
   "current_citInitial": 1,
   "eqLabelWithNumbers": true,
   "eqNumInitial": 0
  }
 },
 "nbformat": 4,
 "nbformat_minor": 2
}
